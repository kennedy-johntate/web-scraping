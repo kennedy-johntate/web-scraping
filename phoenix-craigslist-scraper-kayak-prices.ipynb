{
 "cells": [
  {
   "cell_type": "markdown",
   "metadata": {},
   "source": [
    "The purpose of this project is to research the Phoenix, AZ market for Kayaks listed for sale on Craigslist.\n",
    "\n",
    "In the past, I have ran a side-hustle (see an earlier project in my GitHub repository) where I bought and re-sold items online via eBay. But as this item is a much larger item, I am planning to sell online through sites like Craiglist where items sold are almost exclusively transferred in person.\n",
    "\n",
    "Since I am new to the Phoenix area, I want to scrape Craiglist for the current listings to help in determing what is the appropriate pricing strategy for my kayak."
   ]
  },
  {
   "cell_type": "code",
   "execution_count": 1,
   "metadata": {},
   "outputs": [
    {
     "name": "stdout",
     "output_type": "stream",
     "text": [
      "Success!\n"
     ]
    }
   ],
   "source": [
    "# Importing in each cell because of the kernel restarts.\n",
    "import scrapy\n",
    "import re\n",
    "from scrapy.crawler import CrawlerProcess\n",
    "\n",
    "class CLKayakSpider(scrapy.Spider):\n",
    "    # Naming the spider is important if you are running more than one spider of this class simultaneously.\n",
    "    name = 'CLKS'\n",
    "    \n",
    "    # URL(s) to start with.\n",
    "    start_urls = [\n",
    "        'https://phoenix.craigslist.org/search/sss?query=kayak&sort=rel',\n",
    "    ]\n",
    "    \n",
    "    # Use Xpath to parse the response we get.\n",
    "    def parse(self, response):\n",
    "        \n",
    "        # Iterate over every <listing> element on the page. //p selects all listing elements no matter where they are.\n",
    "        for listing in response.xpath('//p'):\n",
    "            \n",
    "            # Yield a dictionary with the values we want.\n",
    "            yield {\n",
    "                # This is the code to choose what we want to extract. You can modify this with other Xpath expressions to extract\n",
    "                # other information from the site.\n",
    "                'title': listing.xpath('a[@class=\"result-title hdrlnk\"]/text()').extract_first(),\n",
    "                'date': listing.xpath('time[@class=\"result-date\"]/text()').extract_first(),\n",
    "                'price': listing.xpath('span/span[@class=\"result-price\"]/text()').extract_first()\n",
    "            }\n",
    "            \n",
    "        # Get the URL of the previous page.\n",
    "        next_page = response.xpath('//div/div/span[@class=\"buttons\"]/a[3][@href]').extract_first()\n",
    "        \n",
    "        # There are several pages here (322). We'll scrape the first 25. This finds the page number. The next segment of code\n",
    "        # prevents us from going beyond page 25.\n",
    "        pagenum = int(re.findall(r'\\d+',next_page)[0])\n",
    "        \n",
    "        # Recursively call the spider to run on the next page, if it exists.\n",
    "        if next_page is not None and pagenum < 26:\n",
    "            next_page = response.urljoin(next_page)\n",
    "            # Request the next page and recursively parse it the same way we did above.\n",
    "            yield scrapy.Request(next_page, callback=self.parse)\n",
    "\n",
    "# Tell the script how to run the crawler by passing in settings.\n",
    "process = CrawlerProcess({\n",
    "    'FEED_FORMAT': 'json',            # Store date in JSON format.\n",
    "    'FEED_URI': 'clkdata.json',       # Name our storage file.\n",
    "    'LOG_ENABLED': False,             # Turn off logging for now.\n",
    "    'ROBOTSTXT_OBEY': True,\n",
    "    'USER_AGENT': 'ThinkfulDataScienceBootcampCrawlerTate (thinkful.com)',\n",
    "    'AUTOTHROTTLE_ENABLED': True,\n",
    "    'HTTPCACHE_ENABLED': True\n",
    "})\n",
    "\n",
    "# Start the crawler with our spider.\n",
    "process.crawl(CLKayakSpider)\n",
    "process.start()\n",
    "print('Success!')"
   ]
  },
  {
   "cell_type": "code",
   "execution_count": 2,
   "metadata": {},
   "outputs": [
    {
     "name": "stdout",
     "output_type": "stream",
     "text": [
      "(120, 3)\n",
      "     date price                                      title\n",
      "0  Aug 28  None  Looking for a free kayak any shape please\n",
      "1  Aug 28   $20                               kayak rental\n",
      "2  Aug 28   $20                               kayak rental\n",
      "3  Aug 28   $20                             Kayak for rent\n",
      "4  Aug 28   $20                                      kayak\n"
     ]
    }
   ],
   "source": [
    "import pandas as pd\n",
    "\n",
    "# Checking whether or not we got data from all 25 pages.\n",
    "kayaks = pd.read_json('clkdata.json', orient='records')\n",
    "print(kayaks.shape)\n",
    "print(kayaks.head())"
   ]
  },
  {
   "cell_type": "code",
   "execution_count": 3,
   "metadata": {},
   "outputs": [
    {
     "name": "stdout",
     "output_type": "stream",
     "text": [
      "<class 'pandas.core.frame.DataFrame'>\n",
      "RangeIndex: 120 entries, 0 to 119\n",
      "Data columns (total 3 columns):\n",
      "date     120 non-null object\n",
      "price    118 non-null object\n",
      "title    120 non-null object\n",
      "dtypes: object(3)\n",
      "memory usage: 2.9+ KB\n",
      "None\n"
     ]
    }
   ],
   "source": [
    "print(kayaks.info())"
   ]
  },
  {
   "cell_type": "code",
   "execution_count": 4,
   "metadata": {},
   "outputs": [
    {
     "name": "stdout",
     "output_type": "stream",
     "text": [
      "          date price          title\n",
      "count      120   118            120\n",
      "unique      15    33             76\n",
      "top     Aug 28   $35  Kayak Rentals\n",
      "freq        19    33             33\n"
     ]
    }
   ],
   "source": [
    "print(kayaks.describe(include='all'))"
   ]
  },
  {
   "cell_type": "code",
   "execution_count": 7,
   "metadata": {},
   "outputs": [],
   "source": [
    "# Removing the two rows with null values in the price column.\n",
    "kayaks = kayaks.dropna(how='any', axis=0)"
   ]
  },
  {
   "cell_type": "code",
   "execution_count": 8,
   "metadata": {},
   "outputs": [
    {
     "name": "stdout",
     "output_type": "stream",
     "text": [
      "<class 'pandas.core.frame.DataFrame'>\n",
      "Int64Index: 118 entries, 1 to 119\n",
      "Data columns (total 3 columns):\n",
      "date     118 non-null object\n",
      "price    118 non-null object\n",
      "title    118 non-null object\n",
      "dtypes: object(3)\n",
      "memory usage: 3.7+ KB\n",
      "None\n"
     ]
    }
   ],
   "source": [
    "print(kayaks.info())"
   ]
  },
  {
   "cell_type": "code",
   "execution_count": 10,
   "metadata": {},
   "outputs": [],
   "source": [
    "# Removing the $ sign from the price column.\n",
    "kayaks['price'] = kayaks['price'].str.strip('$')"
   ]
  },
  {
   "cell_type": "code",
   "execution_count": 11,
   "metadata": {},
   "outputs": [
    {
     "name": "stdout",
     "output_type": "stream",
     "text": [
      "     date price                                   title\n",
      "1  Aug 28    20                            kayak rental\n",
      "2  Aug 28    20                            kayak rental\n",
      "3  Aug 28    20                          Kayak for rent\n",
      "4  Aug 28    20                                   kayak\n",
      "5  Aug 28    35  Kayak Rentals and Paddle Board Rentals\n"
     ]
    }
   ],
   "source": [
    "print(kayaks.head())"
   ]
  },
  {
   "cell_type": "code",
   "execution_count": 12,
   "metadata": {},
   "outputs": [],
   "source": [
    "# Converting price to integer in order to average price across listings.\n",
    "kayaks['price'] = pd.to_numeric(kayaks.price)"
   ]
  },
  {
   "cell_type": "code",
   "execution_count": 13,
   "metadata": {},
   "outputs": [
    {
     "name": "stdout",
     "output_type": "stream",
     "text": [
      "<class 'pandas.core.frame.DataFrame'>\n",
      "Int64Index: 118 entries, 1 to 119\n",
      "Data columns (total 3 columns):\n",
      "date     118 non-null object\n",
      "price    118 non-null int64\n",
      "title    118 non-null object\n",
      "dtypes: int64(1), object(2)\n",
      "memory usage: 3.7+ KB\n",
      "None\n"
     ]
    }
   ],
   "source": [
    "print(kayaks.info())"
   ]
  },
  {
   "cell_type": "code",
   "execution_count": 14,
   "metadata": {},
   "outputs": [],
   "source": [
    "# We're going to start removing listings for rentals as the intent is to sell the kayak we have, thus in order to competitively\n",
    "# price our kayak for sale we need to remove as many as the 'rental' listings as possible or we will end up underpricing ours.\n",
    "kayaks.drop(kayaks[(kayaks.title == 'kayak rental')].index, inplace=True)"
   ]
  },
  {
   "cell_type": "code",
   "execution_count": 15,
   "metadata": {},
   "outputs": [
    {
     "name": "stdout",
     "output_type": "stream",
     "text": [
      "          date        price          title\n",
      "count      115   115.000000            115\n",
      "unique      15          NaN             73\n",
      "top     Aug 28          NaN  Kayak Rentals\n",
      "freq        16          NaN             33\n",
      "mean       NaN   207.921739            NaN\n",
      "std        NaN   459.591584            NaN\n",
      "min        NaN     1.000000            NaN\n",
      "25%        NaN    30.000000            NaN\n",
      "50%        NaN    35.000000            NaN\n",
      "75%        NaN   240.000000            NaN\n",
      "max        NaN  3000.000000            NaN\n"
     ]
    }
   ],
   "source": [
    "print(kayaks.describe(include='all'))"
   ]
  },
  {
   "cell_type": "code",
   "execution_count": 16,
   "metadata": {},
   "outputs": [],
   "source": [
    "kayaks.drop(kayaks[(kayaks.title == 'Kayak Rentals')].index, inplace=True)"
   ]
  },
  {
   "cell_type": "code",
   "execution_count": 17,
   "metadata": {},
   "outputs": [
    {
     "name": "stdout",
     "output_type": "stream",
     "text": [
      "          date        price  title\n",
      "count       82    82.000000     82\n",
      "unique      14          NaN     72\n",
      "top     Aug 28          NaN  Kayak\n",
      "freq        16          NaN      4\n",
      "mean       NaN   279.829268    NaN\n",
      "std        NaN   528.158501    NaN\n",
      "min        NaN     1.000000    NaN\n",
      "25%        NaN    35.000000    NaN\n",
      "50%        NaN   140.000000    NaN\n",
      "75%        NaN   250.000000    NaN\n",
      "max        NaN  3000.000000    NaN\n"
     ]
    }
   ],
   "source": [
    "print(kayaks.describe(include='all'))"
   ]
  },
  {
   "cell_type": "code",
   "execution_count": 18,
   "metadata": {},
   "outputs": [],
   "source": [
    "kayaks.drop(kayaks[(kayaks.title == 'Kayak for rent')].index, inplace=True)"
   ]
  },
  {
   "cell_type": "code",
   "execution_count": 19,
   "metadata": {},
   "outputs": [
    {
     "name": "stdout",
     "output_type": "stream",
     "text": [
      "          date        price  title\n",
      "count       80    80.000000     80\n",
      "unique      14          NaN     71\n",
      "top     Aug 28          NaN  Kayak\n",
      "freq        15          NaN      4\n",
      "mean       NaN   286.325000    NaN\n",
      "std        NaN   533.161879    NaN\n",
      "min        NaN     1.000000    NaN\n",
      "25%        NaN    35.000000    NaN\n",
      "50%        NaN   150.000000    NaN\n",
      "75%        NaN   250.000000    NaN\n",
      "max        NaN  3000.000000    NaN\n"
     ]
    }
   ],
   "source": [
    "print(kayaks.describe(include='all'))"
   ]
  },
  {
   "cell_type": "markdown",
   "metadata": {},
   "source": [
    "You can see each time we refresh .describe() the average or mean price goes up. We can also see the number of rows removed for 'rental' listings by the change in count. We started off with a significant drop but then slowed down so we may have cleaned up enough rows for now."
   ]
  },
  {
   "cell_type": "code",
   "execution_count": 20,
   "metadata": {},
   "outputs": [
    {
     "name": "stdout",
     "output_type": "stream",
     "text": [
      "      date  price                                              title\n",
      "4   Aug 28     20                                              kayak\n",
      "5   Aug 28     35             Kayak Rentals and Paddle Board Rentals\n",
      "6   Aug 28     35                                    Kayaks for rent\n",
      "7   Aug 28     35                      Paddleboard and Kayak Rentals\n",
      "8   Aug 28     35                                      KAYAK RENTALS\n",
      "9   Aug 28     35                               PADDLE BOARD RENTALS\n",
      "10  Aug 28    250                          Kayak Sale - equinox 10.4\n",
      "11  Aug 28    250                                10 ft Pelican Kayak\n",
      "12  Aug 28    300                      Emotion Spitfire Tandem Kayak\n",
      "13  Aug 28    200  Sun Dolphin Journey 10 SS Sit On Angler / Fish...\n",
      "14  Aug 28    190  Tamarack Angler 100 Fishing Kayak in Green (mi...\n",
      "15  Aug 28    320  Lifetime Manta 100 Tandem 2 Person Kayak in Green\n",
      "16  Aug 28    130  Lifetime Tahoma 100 Sit On Kayak in Lime Green...\n",
      "17  Aug 28   1075                      KAYAK TRAILER NEW CUSTOM MADE\n",
      "18  Aug 28    250                           Kayak squirt by islander\n",
      "19  Aug 27    225  Kayak 126 fishing kayak by Future beach ( new ...\n",
      "20  Aug 27    250                          Old town otter plus kayak\n",
      "21  Aug 27    450              Thule EZ Lift Kayak/Paddle Board Rack\n",
      "22  Aug 27    850                               Double 12 ft Kayak's\n",
      "23  Aug 27    300                             3 Person Fishing Kayak\n",
      "24  Aug 27     30  Talic SeaHorse - 31\" Portable Freestanding  Ca...\n",
      "25  Aug 27    200                                              Kayak\n",
      "26  Aug 27     30  Talic SeaHorse - 31\" Portable Freestanding  Ca...\n",
      "27  Aug 27     35                                        Kayak Tours\n",
      "28  Aug 27     35                                        Kayak Tours\n"
     ]
    }
   ],
   "source": [
    "print(kayaks.head(25))"
   ]
  },
  {
   "cell_type": "code",
   "execution_count": 31,
   "metadata": {},
   "outputs": [],
   "source": [
    "# Let's remove a few more entries in the title column.\n",
    "kayaks.drop(kayaks[(kayaks.title == 'KAYAK RENTALS')].index, inplace=True)\n",
    "kayaks.drop(kayaks[(kayaks.title == 'PADDLE BOARD RENTALS')].index, inplace=True)\n",
    "kayaks.drop(kayaks[(kayaks.title == 'Kayak Tours')].index, inplace=True)\n",
    "kayaks.drop(kayaks[(kayaks.title == 'Kayak Rentals and Paddle Board Rentals')].index, inplace=True)\n",
    "kayaks.drop(kayaks[(kayaks.title == 'Paddleboard and Kayak Rentals')].index, inplace=True)\n",
    "kayaks.drop(kayaks[(kayaks.title == 'Kayaks for rent')].index, inplace=True)\n",
    "kayaks.drop(kayaks[(kayaks.title == 'Kayak rental')].index, inplace=True)\n",
    "kayaks.drop(kayaks[(kayaks.title == 'Best Kayak & Paddle Board Rentals 24hr')].index, inplace=True)\n",
    "kayaks.drop(kayaks[(kayaks.title == 'Best Kayak Rentals 24hr')].index, inplace=True)"
   ]
  },
  {
   "cell_type": "code",
   "execution_count": 32,
   "metadata": {},
   "outputs": [
    {
     "name": "stdout",
     "output_type": "stream",
     "text": [
      "          date        price  title\n",
      "count       68    68.000000     68\n",
      "unique      14          NaN     63\n",
      "top     Aug 28          NaN  Kayak\n",
      "freq        10          NaN      4\n",
      "mean       NaN   330.676471    NaN\n",
      "std        NaN   567.331208    NaN\n",
      "min        NaN     1.000000    NaN\n",
      "25%        NaN    35.000000    NaN\n",
      "50%        NaN   200.000000    NaN\n",
      "75%        NaN   300.000000    NaN\n",
      "max        NaN  3000.000000    NaN\n"
     ]
    }
   ],
   "source": [
    "print(kayaks.describe(include='all'))"
   ]
  },
  {
   "cell_type": "markdown",
   "metadata": {},
   "source": [
    "Ok, I think we're done with cleanup now. We only cleaned up 12 additional rows despite deleting several titles from the dataset. Our average prices is up to $330 now. One last clean-up we will perform below is to remove and price under $35."
   ]
  },
  {
   "cell_type": "code",
   "execution_count": 34,
   "metadata": {},
   "outputs": [],
   "source": [
    "kayaks.drop(kayaks[(kayaks.price < 35)].index, inplace=True)"
   ]
  },
  {
   "cell_type": "code",
   "execution_count": 35,
   "metadata": {},
   "outputs": [
    {
     "name": "stdout",
     "output_type": "stream",
     "text": [
      "          date        price  title\n",
      "count       55    55.000000     55\n",
      "unique      14          NaN     51\n",
      "top     Aug 28          NaN  Kayak\n",
      "freq         9          NaN      4\n",
      "mean       NaN   403.818182    NaN\n",
      "std        NaN   608.957795    NaN\n",
      "min        NaN    35.000000    NaN\n",
      "25%        NaN   140.000000    NaN\n",
      "50%        NaN   250.000000    NaN\n",
      "75%        NaN   360.000000    NaN\n",
      "max        NaN  3000.000000    NaN\n"
     ]
    }
   ],
   "source": [
    "print(kayaks.describe(include='all'))"
   ]
  },
  {
   "cell_type": "markdown",
   "metadata": {},
   "source": [
    "That had a decent impact! I'm glad we did it. And for the context we're considering, I still feel as though 55 listings is a good sample for us to consider when pricing our own kayak for sale."
   ]
  },
  {
   "cell_type": "code",
   "execution_count": 36,
   "metadata": {},
   "outputs": [
    {
     "data": {
      "image/png": "[encoded data removed]",
      "text/plain": [
       "<Figure size 432x288 with 1 Axes>"
      ]
     },
     "metadata": {},
     "output_type": "display_data"
    }
   ],
   "source": [
    "import matplotlib.pyplot as plt\n",
    "%matplotlib inline\n",
    "\n",
    "plt.hist(kayaks.price, bins=20)\n",
    "plt.xlabel('Kayak Price')\n",
    "plt.ylabel('Count')\n",
    "plt.title('Kayak Prices on Craigslist for the Phoenix Market')\n",
    "\n",
    "plt.show()"
   ]
  },
  {
   "cell_type": "markdown",
   "metadata": {},
   "source": [
    "The vast majority of kayaks currently listed on Craigslist for sale are priced under $500, with an average listing price of $404 (rounding up)."
   ]
  }
 ],
 "metadata": {
  "kernelspec": {
   "display_name": "Python 3",
   "language": "python",
   "name": "python3"
  },
  "language_info": {
   "codemirror_mode": {
    "name": "ipython",
    "version": 3
   },
   "file_extension": ".py",
   "mimetype": "text/x-python",
   "name": "python",
   "nbconvert_exporter": "python",
   "pygments_lexer": "ipython3",
   "version": "3.5.5"
  }
 },
 "nbformat": 4,
 "nbformat_minor": 2
}
